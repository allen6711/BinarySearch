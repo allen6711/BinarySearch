{
 "cells": [
  {
   "cell_type": "code",
   "execution_count": null,
   "id": "218c20e3",
   "metadata": {},
   "outputs": [],
   "source": [
    "# Binary Search Template\n",
    "class Solution:\n",
    "    # param nums: The integer array\n",
    "    # param target: Target number to find"
   ]
  }
 ],
 "metadata": {
  "kernelspec": {
   "display_name": "Python 3",
   "language": "python",
   "name": "python3"
  },
  "language_info": {
   "name": "python",
   "version": "3.12.4"
  }
 },
 "nbformat": 4,
 "nbformat_minor": 5
}
